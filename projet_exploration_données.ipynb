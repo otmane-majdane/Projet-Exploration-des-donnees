{
 "cells": [
  {
   "cell_type": "code",
   "execution_count": 1,
   "id": "df294add-79a4-402d-a4e0-6e28c418b60d",
   "metadata": {},
   "outputs": [
    {
     "name": "stderr",
     "output_type": "stream",
     "text": [
      "/home/localhost/.local/lib/python3.10/site-packages/matplotlib/projections/__init__.py:63: UserWarning: Unable to import Axes3D. This may be due to multiple versions of Matplotlib being installed (e.g. as a system package and as a pip package). As a result, the 3D projection is not available.\n",
      "  warnings.warn(\"Unable to import Axes3D. This may be due to multiple versions of \"\n"
     ]
    },
    {
     "data": {
      "text/html": [
       "<div>\n",
       "<style scoped>\n",
       "    .dataframe tbody tr th:only-of-type {\n",
       "        vertical-align: middle;\n",
       "    }\n",
       "\n",
       "    .dataframe tbody tr th {\n",
       "        vertical-align: top;\n",
       "    }\n",
       "\n",
       "    .dataframe thead th {\n",
       "        text-align: right;\n",
       "    }\n",
       "</style>\n",
       "<table border=\"1\" class=\"dataframe\">\n",
       "  <thead>\n",
       "    <tr style=\"text-align: right;\">\n",
       "      <th></th>\n",
       "      <th>Pays</th>\n",
       "      <th>Age</th>\n",
       "      <th>Genre</th>\n",
       "      <th>Dépenses des clients</th>\n",
       "    </tr>\n",
       "  </thead>\n",
       "  <tbody>\n",
       "    <tr>\n",
       "      <th>0</th>\n",
       "      <td>France</td>\n",
       "      <td>32</td>\n",
       "      <td>Female</td>\n",
       "      <td>150.50</td>\n",
       "    </tr>\n",
       "    <tr>\n",
       "      <th>1</th>\n",
       "      <td>Germany</td>\n",
       "      <td>45</td>\n",
       "      <td>Male</td>\n",
       "      <td>200.75</td>\n",
       "    </tr>\n",
       "    <tr>\n",
       "      <th>2</th>\n",
       "      <td>Spain</td>\n",
       "      <td>28</td>\n",
       "      <td>Female</td>\n",
       "      <td>75.25</td>\n",
       "    </tr>\n",
       "    <tr>\n",
       "      <th>3</th>\n",
       "      <td>Italy</td>\n",
       "      <td>39</td>\n",
       "      <td>Male</td>\n",
       "      <td>180.00</td>\n",
       "    </tr>\n",
       "    <tr>\n",
       "      <th>4</th>\n",
       "      <td>UK</td>\n",
       "      <td>52</td>\n",
       "      <td>Female</td>\n",
       "      <td>250.30</td>\n",
       "    </tr>\n",
       "  </tbody>\n",
       "</table>\n",
       "</div>"
      ],
      "text/plain": [
       "      Pays  Age    Genre Dépenses des clients\n",
       "0   France    32  Female               150.50\n",
       "1  Germany    45    Male               200.75\n",
       "2    Spain    28  Female                75.25\n",
       "3    Italy    39    Male               180.00\n",
       "4       UK    52  Female               250.30"
      ]
     },
     "execution_count": 1,
     "metadata": {},
     "output_type": "execute_result"
    }
   ],
   "source": [
    "import pandas as pd\n",
    "import matplotlib.pyplot as plt\n",
    "\n",
    "df = pd.read_csv('data-sell4all.csv')\n",
    "df.head(5)"
   ]
  },
  {
   "cell_type": "code",
   "execution_count": 11,
   "id": "425f28b4-9ddb-47ad-91c4-545c66da3d07",
   "metadata": {},
   "outputs": [
    {
     "name": "stdout",
     "output_type": "stream",
     "text": [
      "<class 'pandas.core.frame.DataFrame'>\n",
      "RangeIndex: 65 entries, 0 to 64\n",
      "Columns: 4 entries, Pays to Dépenses des clients\n",
      "dtypes: object(4)"
     ]
    }
   ],
   "source": [
    "df.info(max_cols=True, memory_usage=False,show_counts=True)"
   ]
  },
  {
   "cell_type": "code",
   "execution_count": null,
   "id": "ca087d19-5918-4f3a-a1e3-60d0bf1aa285",
   "metadata": {},
   "outputs": [],
   "source": [
    "Dans ce ensemble de données il y a 65 lignes , 4 colonnes et je vois que tous les types sont des objets.   \n",
    "non null est forcer une colonne à ne pas accepter les valeurs NULL, ce qui signifie que vous ne pouvez pas   \n",
    "insérer ou mettre à jour un enregistrement sans ajouter une valeur à ce champ."
   ]
  },
  {
   "cell_type": "code",
   "execution_count": 24,
   "id": "736d2fe3-4996-4909-8df9-1b6451621fd9",
   "metadata": {},
   "outputs": [
    {
     "name": "stdout",
     "output_type": "stream",
     "text": [
      "Median Age: 36.0\n",
      "Median Dépenses des clients: 167.5\n"
     ]
    }
   ],
   "source": [
    "df[' Age '] = pd.to_numeric(df[' Age '], errors='coerce')\n",
    "df['Dépenses des clients'] = pd.to_numeric(df['Dépenses des clients'], errors='coerce')\n",
    "median_age = df[' Age '].median()\n",
    "median_dépenses = df['Dépenses des clients'].median()\n",
    "\n",
    "print(\"Median Age:\", median_age)\n",
    "print(\"Median Dépenses des clients:\", median_dépenses)"
   ]
  },
  {
   "cell_type": "code",
   "execution_count": 25,
   "id": "42023770-6c12-4df2-90c9-50c5fc4338ba",
   "metadata": {},
   "outputs": [
    {
     "data": {
      "image/png": "[encoded data removed]",
      "text/plain": [
       "<Figure size 432x432 with 1 Axes>"
      ]
     },
     "metadata": {
      "needs_background": "light"
     },
     "output_type": "display_data"
    }
   ],
   "source": [
    "#Le graphique à barres > les dépenses des clients par pays:\n",
    "plt.figure(figsize=(6, 6))\n",
    "plt.bar(df['Pays'], df['Dépenses des clients'], color='blue')\n",
    "plt.xlabel('Pays')\n",
    "plt.ylabel('Dépenses des clients')\n",
    "plt.title('Dépenses des clients par pays')\n",
    "plt.xticks(rotation=80)\n",
    "plt.tight_layout() \n",
    "plt.show()"
   ]
  },
  {
   "cell_type": "code",
   "execution_count": 26,
   "id": "c4417ca9-367e-49de-9072-f49aa3e4385c",
   "metadata": {},
   "outputs": [],
   "source": [
    "#Suppression des lignes avec Dépenses des clients >= 10 €:\n",
    "df_nettoyage = df[df['Dépenses des clients'] >= 10]"
   ]
  },
  {
   "cell_type": "code",
   "execution_count": 27,
   "id": "45f9cb9d-767a-4aa8-9c58-479323e0039b",
   "metadata": {},
   "outputs": [],
   "source": [
    "#Nettoyage des Doublons:\n",
    "doublons= df_nettoyage.drop_duplicates(inplace=False)"
   ]
  },
  {
   "cell_type": "code",
   "execution_count": 28,
   "id": "2e06b4dd-f8b9-4986-b298-c31a975b4337",
   "metadata": {},
   "outputs": [],
   "source": [
    "#Nouveau fichier CSV:\n",
    "doublons.to_csv(\"/home/localhost/Desktop/dataset-sell4allnew.csv\", index=True)"
   ]
  },
  {
   "cell_type": "code",
   "execution_count": null,
   "id": "c3cb547a-dea3-4f4c-86f1-5ff84e769676",
   "metadata": {},
   "outputs": [],
   "source": []
  }
 ],
 "metadata": {
  "kernelspec": {
   "display_name": "Python 3 (ipykernel)",
   "language": "python",
   "name": "python3"
  },
  "language_info": {
   "codemirror_mode": {
    "name": "ipython",
    "version": 3
   },
   "file_extension": ".py",
   "mimetype": "text/x-python",
   "name": "python",
   "nbconvert_exporter": "python",
   "pygments_lexer": "ipython3",
   "version": "3.10.12"
  }
 },
 "nbformat": 4,
 "nbformat_minor": 5
}
